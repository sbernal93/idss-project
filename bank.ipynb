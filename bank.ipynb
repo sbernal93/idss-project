{
 "cells": [
  {
   "cell_type": "markdown",
   "metadata": {
    "_cell_guid": "e033a865-17a2-466a-8cde-a39cc6752deb",
    "_uuid": "c9e2806b423b6385a8d876545ab668324b6bb451"
   },
   "source": [
    "# Bank Marketing Data"
   ]
  },
  {
   "cell_type": "code",
   "execution_count": 2,
   "metadata": {
    "_cell_guid": "9e92f1a3-3e81-4ec6-a567-890827b0555c",
    "_uuid": "e5338e8c3fa6dc8f410d8b868aa78cb54621780b"
   },
   "outputs": [],
   "source": [
    "import pandas as pd\n",
    "import numpy as np\n",
    "import matplotlib.pyplot as plt\n",
    "import seaborn as sns\n",
    "from sklearn.cluster import KMeans\n",
    "from sklearn import datasets\n",
    "from io import StringIO\n",
    "from sklearn.tree import export_graphviz\n",
    "from sklearn.model_selection import train_test_split\n",
    "from sklearn import tree\n",
    "from sklearn import metrics\n",
    "%matplotlib inline\n",
    "from subprocess import check_call\n",
    "from PIL import Image, ImageDraw, ImageFont\n",
    "from IPython.display import Image as PImage"
   ]
  },
  {
   "cell_type": "code",
   "execution_count": 18,
   "metadata": {
    "_cell_guid": "52a87df3-04c2-4515-994a-9a3d0b85d3c3",
    "_uuid": "9700cff3c818070f8f202bc964e2a5ffc8c72aa5"
   },
   "outputs": [
    {
     "data": {
      "text/html": [
       "<div>\n",
       "<style scoped>\n",
       "    .dataframe tbody tr th:only-of-type {\n",
       "        vertical-align: middle;\n",
       "    }\n",
       "\n",
       "    .dataframe tbody tr th {\n",
       "        vertical-align: top;\n",
       "    }\n",
       "\n",
       "    .dataframe thead th {\n",
       "        text-align: right;\n",
       "    }\n",
       "</style>\n",
       "<table border=\"1\" class=\"dataframe\">\n",
       "  <thead>\n",
       "    <tr style=\"text-align: right;\">\n",
       "      <th></th>\n",
       "      <th>age</th>\n",
       "      <th>job</th>\n",
       "      <th>marital</th>\n",
       "      <th>education</th>\n",
       "      <th>default</th>\n",
       "      <th>balance</th>\n",
       "      <th>housing</th>\n",
       "      <th>loan</th>\n",
       "      <th>contact</th>\n",
       "      <th>day</th>\n",
       "      <th>month</th>\n",
       "      <th>duration</th>\n",
       "      <th>campaign</th>\n",
       "      <th>pdays</th>\n",
       "      <th>previous</th>\n",
       "      <th>poutcome</th>\n",
       "      <th>y</th>\n",
       "    </tr>\n",
       "  </thead>\n",
       "  <tbody>\n",
       "    <tr>\n",
       "      <th>0</th>\n",
       "      <td>58</td>\n",
       "      <td>management</td>\n",
       "      <td>married</td>\n",
       "      <td>tertiary</td>\n",
       "      <td>no</td>\n",
       "      <td>2143</td>\n",
       "      <td>yes</td>\n",
       "      <td>no</td>\n",
       "      <td>unknown</td>\n",
       "      <td>5</td>\n",
       "      <td>may</td>\n",
       "      <td>261</td>\n",
       "      <td>1</td>\n",
       "      <td>-1</td>\n",
       "      <td>0</td>\n",
       "      <td>unknown</td>\n",
       "      <td>no</td>\n",
       "    </tr>\n",
       "    <tr>\n",
       "      <th>1</th>\n",
       "      <td>44</td>\n",
       "      <td>technician</td>\n",
       "      <td>single</td>\n",
       "      <td>secondary</td>\n",
       "      <td>no</td>\n",
       "      <td>29</td>\n",
       "      <td>yes</td>\n",
       "      <td>no</td>\n",
       "      <td>unknown</td>\n",
       "      <td>5</td>\n",
       "      <td>may</td>\n",
       "      <td>151</td>\n",
       "      <td>1</td>\n",
       "      <td>-1</td>\n",
       "      <td>0</td>\n",
       "      <td>unknown</td>\n",
       "      <td>no</td>\n",
       "    </tr>\n",
       "    <tr>\n",
       "      <th>2</th>\n",
       "      <td>33</td>\n",
       "      <td>entrepreneur</td>\n",
       "      <td>married</td>\n",
       "      <td>secondary</td>\n",
       "      <td>no</td>\n",
       "      <td>2</td>\n",
       "      <td>yes</td>\n",
       "      <td>yes</td>\n",
       "      <td>unknown</td>\n",
       "      <td>5</td>\n",
       "      <td>may</td>\n",
       "      <td>76</td>\n",
       "      <td>1</td>\n",
       "      <td>-1</td>\n",
       "      <td>0</td>\n",
       "      <td>unknown</td>\n",
       "      <td>no</td>\n",
       "    </tr>\n",
       "    <tr>\n",
       "      <th>3</th>\n",
       "      <td>47</td>\n",
       "      <td>blue-collar</td>\n",
       "      <td>married</td>\n",
       "      <td>unknown</td>\n",
       "      <td>no</td>\n",
       "      <td>1506</td>\n",
       "      <td>yes</td>\n",
       "      <td>no</td>\n",
       "      <td>unknown</td>\n",
       "      <td>5</td>\n",
       "      <td>may</td>\n",
       "      <td>92</td>\n",
       "      <td>1</td>\n",
       "      <td>-1</td>\n",
       "      <td>0</td>\n",
       "      <td>unknown</td>\n",
       "      <td>no</td>\n",
       "    </tr>\n",
       "    <tr>\n",
       "      <th>4</th>\n",
       "      <td>33</td>\n",
       "      <td>unknown</td>\n",
       "      <td>single</td>\n",
       "      <td>unknown</td>\n",
       "      <td>no</td>\n",
       "      <td>1</td>\n",
       "      <td>no</td>\n",
       "      <td>no</td>\n",
       "      <td>unknown</td>\n",
       "      <td>5</td>\n",
       "      <td>may</td>\n",
       "      <td>198</td>\n",
       "      <td>1</td>\n",
       "      <td>-1</td>\n",
       "      <td>0</td>\n",
       "      <td>unknown</td>\n",
       "      <td>no</td>\n",
       "    </tr>\n",
       "  </tbody>\n",
       "</table>\n",
       "</div>"
      ],
      "text/plain": [
       "   age           job  marital  education default  balance housing loan  \\\n",
       "0   58    management  married   tertiary      no     2143     yes   no   \n",
       "1   44    technician   single  secondary      no       29     yes   no   \n",
       "2   33  entrepreneur  married  secondary      no        2     yes  yes   \n",
       "3   47   blue-collar  married    unknown      no     1506     yes   no   \n",
       "4   33       unknown   single    unknown      no        1      no   no   \n",
       "\n",
       "   contact  day month  duration  campaign  pdays  previous poutcome   y  \n",
       "0  unknown    5   may       261         1     -1         0  unknown  no  \n",
       "1  unknown    5   may       151         1     -1         0  unknown  no  \n",
       "2  unknown    5   may        76         1     -1         0  unknown  no  \n",
       "3  unknown    5   may        92         1     -1         0  unknown  no  \n",
       "4  unknown    5   may       198         1     -1         0  unknown  no  "
      ]
     },
     "execution_count": 18,
     "metadata": {},
     "output_type": "execute_result"
    }
   ],
   "source": [
    "# Load data file\n",
    "bank=pd.read_csv('data/bank/bank-full.csv', sep=';')\n",
    "bank.head()"
   ]
  },
  {
   "cell_type": "markdown",
   "metadata": {
    "_cell_guid": "a727fd41-6e6e-424f-b65f-18c723b289a9",
    "_uuid": "de29791be07bcac0927cccfb6e858044d1b882ca"
   },
   "source": [
    "## Summary of data\n",
    "\n",
    "### Categorical Variables :\n",
    "**[1] job      :** admin,technician, services, management, retired, blue-collar, unemployed, entrepreneur,\n",
    "               housemaid, unknown, self-employed, student\n",
    "<br>**[2] marital  :** married, single, divorced\n",
    "<br>**[3] education:** secondary, tertiary, primary, unknown\n",
    "<br>**[4] default  :** yes, no\n",
    "<br>**[5] housing  :** yes, no\n",
    "<br>**[6] loan     :** yes, no \n",
    "<br>**[7] deposit  :** yes, no ** (Dependent Variable)**\n",
    "<br>**[8] contact  :** unknown, cellular, telephone\n",
    "<br>**[9] month    :** jan, feb, mar, apr, may, jun, jul, aug, sep, oct, nov, dec\n",
    "<br>**[10] poutcome:** unknown, other, failure, success\n",
    "\n",
    "### Numerical Variables:\n",
    "**[1] age\n",
    "<br>[2] balance\n",
    "<br>[3] day\n",
    "<br>[4] duration\n",
    "<br>[5] campaign\n",
    "<br>[6] pdays\n",
    "<br>[7] previous**"
   ]
  },
  {
   "cell_type": "markdown",
   "metadata": {
    "_cell_guid": "f8e3b055-7d8e-4723-9e57-4a1e454ef194",
    "_uuid": "d8cf9f54203152a76a7e8a03c3003644eb59525f"
   },
   "source": [
    "### Treat categorical data"
   ]
  },
  {
   "cell_type": "code",
   "execution_count": 19,
   "metadata": {
    "_cell_guid": "353340bc-f258-4ca4-96ae-ce3dd6da9e4f",
    "_uuid": "fa62612c19f6f510de6155f1f279d6aa812b9d22"
   },
   "outputs": [],
   "source": [
    "# Make a copy for parsing\n",
    "bank_data = bank.copy()"
   ]
  },
  {
   "cell_type": "markdown",
   "metadata": {
    "_cell_guid": "c446c4b5-d0ce-48e1-8ceb-6431e49ad97e",
    "_uuid": "36fcf9b5b0dc9374f7540f918be453ece6eec86e"
   },
   "source": [
    "####  poutcome "
   ]
  },
  {
   "cell_type": "code",
   "execution_count": 20,
   "metadata": {
    "_cell_guid": "b827ea76-4adb-4472-9def-ebd268d5586f",
    "_uuid": "dd9bc0417c255963d08c7eb721dde66b32d406dc"
   },
   "outputs": [
    {
     "data": {
      "text/plain": [
       "other      38799\n",
       "failure     4901\n",
       "success     1511\n",
       "Name: poutcome, dtype: int64"
      ]
     },
     "execution_count": 20,
     "metadata": {},
     "output_type": "execute_result"
    }
   ],
   "source": [
    "# Combine 'unknown' and 'other'\n",
    "bank_data['poutcome'] = bank_data['poutcome'].replace(['unknown'] , 'other')\n",
    "bank_data.poutcome.value_counts()"
   ]
  },
  {
   "cell_type": "code",
   "execution_count": 21,
   "metadata": {
    "_cell_guid": "edf8d6c3-f66a-4521-bb82-13de0e175244",
    "_uuid": "7b3cd6910378c11f5edacde330f5a312d0f58d16"
   },
   "outputs": [],
   "source": [
    "# Drop 'contact', as every participant has been contacted. \n",
    "bank_data.drop('contact', axis=1, inplace=True)"
   ]
  },
  {
   "cell_type": "markdown",
   "metadata": {
    "_cell_guid": "167de291-a2df-4371-837b-25cc84121fc9",
    "_uuid": "8d519172290ca18fd70843a45677e0524b460a8c"
   },
   "source": [
    "####  replace to booleans "
   ]
  },
  {
   "cell_type": "code",
   "execution_count": 22,
   "metadata": {
    "_cell_guid": "9445241c-8d2f-4552-a879-f35bd08155ee",
    "_uuid": "35a4bc625d393ae0b38076c7bdb88e12be134acf"
   },
   "outputs": [],
   "source": [
    "# values for \"default\" : yes/no\n",
    "bank_data[\"default\"]\n",
    "bank_data['default_cat'] = bank_data['default'].map( {'yes':1, 'no':0} )\n",
    "bank_data.drop('default', axis=1,inplace = True)\n",
    "\n",
    "# values for \"housing\" : yes/no\n",
    "bank_data[\"housing_cat\"]=bank_data['housing'].map({'yes':1, 'no':0})\n",
    "bank_data.drop('housing', axis=1,inplace = True)\n",
    "\n",
    "# values for \"loan\" : yes/no\n",
    "bank_data[\"loan_cat\"] = bank_data['loan'].map({'yes':1, 'no':0})\n",
    "bank_data.drop('loan', axis=1, inplace=True)"
   ]
  },
  {
   "cell_type": "markdown",
   "metadata": {
    "_cell_guid": "422662b8-94f4-4b1f-a61c-71dca5627c7c",
    "_uuid": "f94605bb3c4f22900794ad6b1d066d3808d9d5b1"
   },
   "source": [
    "#### month, day"
   ]
  },
  {
   "cell_type": "code",
   "execution_count": 23,
   "metadata": {
    "_cell_guid": "a004d399-5d98-4767-a629-4008e834a501",
    "_uuid": "24b3d3f4534ea7b714743123dc7f1186d6c6165a"
   },
   "outputs": [],
   "source": [
    "# Drop 'month' and 'day' as they don't have any intrinsic meaning\n",
    "bank_data.drop('month', axis=1, inplace=True)\n",
    "bank_data.drop('day', axis=1, inplace=True)"
   ]
  },
  {
   "cell_type": "markdown",
   "metadata": {
    "_cell_guid": "3114fee4-f7f6-4bb3-9e9e-30080deacae8",
    "_uuid": "082214ade8f57c636812167b6b6f11a291209234"
   },
   "source": [
    "#### y"
   ]
  },
  {
   "cell_type": "code",
   "execution_count": 24,
   "metadata": {
    "_cell_guid": "824acb7c-9ebb-4ec3-abc2-91b3a8dfbba8",
    "_uuid": "8983691ec985826964e224d851c47fa53d5189a3"
   },
   "outputs": [],
   "source": [
    "# values for \"y\" : yes/no\n",
    "bank_data[\"deposit\"] = bank_data['y'].map({'yes':1, 'no':0})\n",
    "bank_data.drop('y', axis=1, inplace=True)"
   ]
  },
  {
   "cell_type": "code",
   "execution_count": 25,
   "metadata": {},
   "outputs": [
    {
     "data": {
      "text/plain": [
       "0        0\n",
       "1        0\n",
       "2        0\n",
       "3        0\n",
       "4        0\n",
       "        ..\n",
       "45206    1\n",
       "45207    1\n",
       "45208    1\n",
       "45209    0\n",
       "45210    0\n",
       "Name: deposit, Length: 45211, dtype: int64"
      ]
     },
     "execution_count": 25,
     "metadata": {},
     "output_type": "execute_result"
    }
   ],
   "source": [
    "bank_data[\"deposit\"]"
   ]
  },
  {
   "cell_type": "markdown",
   "metadata": {
    "_cell_guid": "675e8d8f-2e23-4976-a7e9-fdb0d4983393",
    "_uuid": "6c0309015c140816d4fc83ce6af0d47daa6ac0f0"
   },
   "source": [
    "### Convert categorical data"
   ]
  },
  {
   "cell_type": "code",
   "execution_count": 27,
   "metadata": {},
   "outputs": [
    {
     "data": {
      "text/html": [
       "<div>\n",
       "<style scoped>\n",
       "    .dataframe tbody tr th:only-of-type {\n",
       "        vertical-align: middle;\n",
       "    }\n",
       "\n",
       "    .dataframe tbody tr th {\n",
       "        vertical-align: top;\n",
       "    }\n",
       "\n",
       "    .dataframe thead th {\n",
       "        text-align: right;\n",
       "    }\n",
       "</style>\n",
       "<table border=\"1\" class=\"dataframe\">\n",
       "  <thead>\n",
       "    <tr style=\"text-align: right;\">\n",
       "      <th></th>\n",
       "      <th>age</th>\n",
       "      <th>job</th>\n",
       "      <th>marital</th>\n",
       "      <th>education</th>\n",
       "      <th>balance</th>\n",
       "      <th>duration</th>\n",
       "      <th>campaign</th>\n",
       "      <th>pdays</th>\n",
       "      <th>previous</th>\n",
       "      <th>poutcome</th>\n",
       "      <th>default_cat</th>\n",
       "      <th>housing_cat</th>\n",
       "      <th>loan_cat</th>\n",
       "      <th>deposit</th>\n",
       "    </tr>\n",
       "  </thead>\n",
       "  <tbody>\n",
       "    <tr>\n",
       "      <th>0</th>\n",
       "      <td>58</td>\n",
       "      <td>management</td>\n",
       "      <td>married</td>\n",
       "      <td>tertiary</td>\n",
       "      <td>2143</td>\n",
       "      <td>261</td>\n",
       "      <td>1</td>\n",
       "      <td>-1</td>\n",
       "      <td>0</td>\n",
       "      <td>other</td>\n",
       "      <td>0</td>\n",
       "      <td>1</td>\n",
       "      <td>0</td>\n",
       "      <td>0</td>\n",
       "    </tr>\n",
       "    <tr>\n",
       "      <th>1</th>\n",
       "      <td>44</td>\n",
       "      <td>technician</td>\n",
       "      <td>single</td>\n",
       "      <td>secondary</td>\n",
       "      <td>29</td>\n",
       "      <td>151</td>\n",
       "      <td>1</td>\n",
       "      <td>-1</td>\n",
       "      <td>0</td>\n",
       "      <td>other</td>\n",
       "      <td>0</td>\n",
       "      <td>1</td>\n",
       "      <td>0</td>\n",
       "      <td>0</td>\n",
       "    </tr>\n",
       "    <tr>\n",
       "      <th>2</th>\n",
       "      <td>33</td>\n",
       "      <td>entrepreneur</td>\n",
       "      <td>married</td>\n",
       "      <td>secondary</td>\n",
       "      <td>2</td>\n",
       "      <td>76</td>\n",
       "      <td>1</td>\n",
       "      <td>-1</td>\n",
       "      <td>0</td>\n",
       "      <td>other</td>\n",
       "      <td>0</td>\n",
       "      <td>1</td>\n",
       "      <td>1</td>\n",
       "      <td>0</td>\n",
       "    </tr>\n",
       "    <tr>\n",
       "      <th>3</th>\n",
       "      <td>47</td>\n",
       "      <td>blue-collar</td>\n",
       "      <td>married</td>\n",
       "      <td>unknown</td>\n",
       "      <td>1506</td>\n",
       "      <td>92</td>\n",
       "      <td>1</td>\n",
       "      <td>-1</td>\n",
       "      <td>0</td>\n",
       "      <td>other</td>\n",
       "      <td>0</td>\n",
       "      <td>1</td>\n",
       "      <td>0</td>\n",
       "      <td>0</td>\n",
       "    </tr>\n",
       "    <tr>\n",
       "      <th>4</th>\n",
       "      <td>33</td>\n",
       "      <td>unknown</td>\n",
       "      <td>single</td>\n",
       "      <td>unknown</td>\n",
       "      <td>1</td>\n",
       "      <td>198</td>\n",
       "      <td>1</td>\n",
       "      <td>-1</td>\n",
       "      <td>0</td>\n",
       "      <td>other</td>\n",
       "      <td>0</td>\n",
       "      <td>0</td>\n",
       "      <td>0</td>\n",
       "      <td>0</td>\n",
       "    </tr>\n",
       "  </tbody>\n",
       "</table>\n",
       "</div>"
      ],
      "text/plain": [
       "   age           job  marital  education  balance  duration  campaign  pdays  \\\n",
       "0   58    management  married   tertiary     2143       261         1     -1   \n",
       "1   44    technician   single  secondary       29       151         1     -1   \n",
       "2   33  entrepreneur  married  secondary        2        76         1     -1   \n",
       "3   47   blue-collar  married    unknown     1506        92         1     -1   \n",
       "4   33       unknown   single    unknown        1       198         1     -1   \n",
       "\n",
       "   previous poutcome  default_cat  housing_cat  loan_cat  deposit  \n",
       "0         0    other            0            1         0        0  \n",
       "1         0    other            0            1         0        0  \n",
       "2         0    other            0            1         1        0  \n",
       "3         0    other            0            1         0        0  \n",
       "4         0    other            0            0         0        0  "
      ]
     },
     "execution_count": 27,
     "metadata": {},
     "output_type": "execute_result"
    }
   ],
   "source": [
    "bank_data.head()"
   ]
  },
  {
   "cell_type": "code",
   "execution_count": 29,
   "metadata": {
    "_cell_guid": "65a1ee10-aa81-4e44-b159-88f426ad0ae3",
    "_uuid": "63ac123483934cbc0e3703950e9cd7860184e985"
   },
   "outputs": [
    {
     "data": {
      "text/html": [
       "<div>\n",
       "<style scoped>\n",
       "    .dataframe tbody tr th:only-of-type {\n",
       "        vertical-align: middle;\n",
       "    }\n",
       "\n",
       "    .dataframe tbody tr th {\n",
       "        vertical-align: top;\n",
       "    }\n",
       "\n",
       "    .dataframe thead th {\n",
       "        text-align: right;\n",
       "    }\n",
       "</style>\n",
       "<table border=\"1\" class=\"dataframe\">\n",
       "  <thead>\n",
       "    <tr style=\"text-align: right;\">\n",
       "      <th></th>\n",
       "      <th>age</th>\n",
       "      <th>balance</th>\n",
       "      <th>duration</th>\n",
       "      <th>campaign</th>\n",
       "      <th>pdays</th>\n",
       "      <th>previous</th>\n",
       "      <th>default_cat</th>\n",
       "      <th>housing_cat</th>\n",
       "      <th>loan_cat</th>\n",
       "      <th>deposit</th>\n",
       "      <th>...</th>\n",
       "      <th>marital_divorced</th>\n",
       "      <th>marital_married</th>\n",
       "      <th>marital_single</th>\n",
       "      <th>education_primary</th>\n",
       "      <th>education_secondary</th>\n",
       "      <th>education_tertiary</th>\n",
       "      <th>education_unknown</th>\n",
       "      <th>poutcome_failure</th>\n",
       "      <th>poutcome_other</th>\n",
       "      <th>poutcome_success</th>\n",
       "    </tr>\n",
       "  </thead>\n",
       "  <tbody>\n",
       "    <tr>\n",
       "      <th>0</th>\n",
       "      <td>58</td>\n",
       "      <td>2143</td>\n",
       "      <td>261</td>\n",
       "      <td>1</td>\n",
       "      <td>-1</td>\n",
       "      <td>0</td>\n",
       "      <td>0</td>\n",
       "      <td>1</td>\n",
       "      <td>0</td>\n",
       "      <td>0</td>\n",
       "      <td>...</td>\n",
       "      <td>0</td>\n",
       "      <td>1</td>\n",
       "      <td>0</td>\n",
       "      <td>0</td>\n",
       "      <td>0</td>\n",
       "      <td>1</td>\n",
       "      <td>0</td>\n",
       "      <td>0</td>\n",
       "      <td>1</td>\n",
       "      <td>0</td>\n",
       "    </tr>\n",
       "    <tr>\n",
       "      <th>1</th>\n",
       "      <td>44</td>\n",
       "      <td>29</td>\n",
       "      <td>151</td>\n",
       "      <td>1</td>\n",
       "      <td>-1</td>\n",
       "      <td>0</td>\n",
       "      <td>0</td>\n",
       "      <td>1</td>\n",
       "      <td>0</td>\n",
       "      <td>0</td>\n",
       "      <td>...</td>\n",
       "      <td>0</td>\n",
       "      <td>0</td>\n",
       "      <td>1</td>\n",
       "      <td>0</td>\n",
       "      <td>1</td>\n",
       "      <td>0</td>\n",
       "      <td>0</td>\n",
       "      <td>0</td>\n",
       "      <td>1</td>\n",
       "      <td>0</td>\n",
       "    </tr>\n",
       "    <tr>\n",
       "      <th>2</th>\n",
       "      <td>33</td>\n",
       "      <td>2</td>\n",
       "      <td>76</td>\n",
       "      <td>1</td>\n",
       "      <td>-1</td>\n",
       "      <td>0</td>\n",
       "      <td>0</td>\n",
       "      <td>1</td>\n",
       "      <td>1</td>\n",
       "      <td>0</td>\n",
       "      <td>...</td>\n",
       "      <td>0</td>\n",
       "      <td>1</td>\n",
       "      <td>0</td>\n",
       "      <td>0</td>\n",
       "      <td>1</td>\n",
       "      <td>0</td>\n",
       "      <td>0</td>\n",
       "      <td>0</td>\n",
       "      <td>1</td>\n",
       "      <td>0</td>\n",
       "    </tr>\n",
       "    <tr>\n",
       "      <th>3</th>\n",
       "      <td>47</td>\n",
       "      <td>1506</td>\n",
       "      <td>92</td>\n",
       "      <td>1</td>\n",
       "      <td>-1</td>\n",
       "      <td>0</td>\n",
       "      <td>0</td>\n",
       "      <td>1</td>\n",
       "      <td>0</td>\n",
       "      <td>0</td>\n",
       "      <td>...</td>\n",
       "      <td>0</td>\n",
       "      <td>1</td>\n",
       "      <td>0</td>\n",
       "      <td>0</td>\n",
       "      <td>0</td>\n",
       "      <td>0</td>\n",
       "      <td>1</td>\n",
       "      <td>0</td>\n",
       "      <td>1</td>\n",
       "      <td>0</td>\n",
       "    </tr>\n",
       "    <tr>\n",
       "      <th>4</th>\n",
       "      <td>33</td>\n",
       "      <td>1</td>\n",
       "      <td>198</td>\n",
       "      <td>1</td>\n",
       "      <td>-1</td>\n",
       "      <td>0</td>\n",
       "      <td>0</td>\n",
       "      <td>0</td>\n",
       "      <td>0</td>\n",
       "      <td>0</td>\n",
       "      <td>...</td>\n",
       "      <td>0</td>\n",
       "      <td>0</td>\n",
       "      <td>1</td>\n",
       "      <td>0</td>\n",
       "      <td>0</td>\n",
       "      <td>0</td>\n",
       "      <td>1</td>\n",
       "      <td>0</td>\n",
       "      <td>1</td>\n",
       "      <td>0</td>\n",
       "    </tr>\n",
       "  </tbody>\n",
       "</table>\n",
       "<p>5 rows × 32 columns</p>\n",
       "</div>"
      ],
      "text/plain": [
       "   age  balance  duration  campaign  pdays  previous  default_cat  \\\n",
       "0   58     2143       261         1     -1         0            0   \n",
       "1   44       29       151         1     -1         0            0   \n",
       "2   33        2        76         1     -1         0            0   \n",
       "3   47     1506        92         1     -1         0            0   \n",
       "4   33        1       198         1     -1         0            0   \n",
       "\n",
       "   housing_cat  loan_cat  deposit  ...  marital_divorced  marital_married  \\\n",
       "0            1         0        0  ...                 0                1   \n",
       "1            1         0        0  ...                 0                0   \n",
       "2            1         1        0  ...                 0                1   \n",
       "3            1         0        0  ...                 0                1   \n",
       "4            0         0        0  ...                 0                0   \n",
       "\n",
       "   marital_single  education_primary  education_secondary  education_tertiary  \\\n",
       "0               0                  0                    0                   1   \n",
       "1               1                  0                    1                   0   \n",
       "2               0                  0                    1                   0   \n",
       "3               0                  0                    0                   0   \n",
       "4               1                  0                    0                   0   \n",
       "\n",
       "   education_unknown  poutcome_failure  poutcome_other  poutcome_success  \n",
       "0                  0                 0               1                 0  \n",
       "1                  0                 0               1                 0  \n",
       "2                  0                 0               1                 0  \n",
       "3                  1                 0               1                 0  \n",
       "4                  1                 0               1                 0  \n",
       "\n",
       "[5 rows x 32 columns]"
      ]
     },
     "execution_count": 29,
     "metadata": {},
     "output_type": "execute_result"
    }
   ],
   "source": [
    "# Use pandas dummy to convert categorical data\n",
    "bank_with_dummies = pd.get_dummies(data=bank_data, columns = ['job', 'marital', 'education', 'poutcome'], prefix = ['job', 'marital', 'education', 'poutcome'])\n",
    "bank_with_dummies.head()"
   ]
  },
  {
   "cell_type": "code",
   "execution_count": 30,
   "metadata": {
    "_cell_guid": "8daac786-1fcd-4dd5-b789-8dbb96011c44",
    "_uuid": "b9018d84ec2eae5368860f237e47e00473deeb05"
   },
   "outputs": [
    {
     "data": {
      "text/html": [
       "<div>\n",
       "<style scoped>\n",
       "    .dataframe tbody tr th:only-of-type {\n",
       "        vertical-align: middle;\n",
       "    }\n",
       "\n",
       "    .dataframe tbody tr th {\n",
       "        vertical-align: top;\n",
       "    }\n",
       "\n",
       "    .dataframe thead th {\n",
       "        text-align: right;\n",
       "    }\n",
       "</style>\n",
       "<table border=\"1\" class=\"dataframe\">\n",
       "  <thead>\n",
       "    <tr style=\"text-align: right;\">\n",
       "      <th></th>\n",
       "      <th>age</th>\n",
       "      <th>balance</th>\n",
       "      <th>duration</th>\n",
       "      <th>campaign</th>\n",
       "      <th>pdays</th>\n",
       "      <th>previous</th>\n",
       "      <th>default_cat</th>\n",
       "      <th>housing_cat</th>\n",
       "      <th>loan_cat</th>\n",
       "      <th>deposit</th>\n",
       "      <th>...</th>\n",
       "      <th>marital_divorced</th>\n",
       "      <th>marital_married</th>\n",
       "      <th>marital_single</th>\n",
       "      <th>education_primary</th>\n",
       "      <th>education_secondary</th>\n",
       "      <th>education_tertiary</th>\n",
       "      <th>education_unknown</th>\n",
       "      <th>poutcome_failure</th>\n",
       "      <th>poutcome_other</th>\n",
       "      <th>poutcome_success</th>\n",
       "    </tr>\n",
       "  </thead>\n",
       "  <tbody>\n",
       "    <tr>\n",
       "      <th>count</th>\n",
       "      <td>45211.000000</td>\n",
       "      <td>45211.000000</td>\n",
       "      <td>45211.000000</td>\n",
       "      <td>45211.000000</td>\n",
       "      <td>45211.000000</td>\n",
       "      <td>45211.000000</td>\n",
       "      <td>45211.000000</td>\n",
       "      <td>45211.000000</td>\n",
       "      <td>45211.000000</td>\n",
       "      <td>45211.000000</td>\n",
       "      <td>...</td>\n",
       "      <td>45211.000000</td>\n",
       "      <td>45211.000000</td>\n",
       "      <td>45211.000000</td>\n",
       "      <td>45211.000000</td>\n",
       "      <td>45211.000000</td>\n",
       "      <td>45211.000000</td>\n",
       "      <td>45211.000000</td>\n",
       "      <td>45211.000000</td>\n",
       "      <td>45211.000000</td>\n",
       "      <td>45211.000000</td>\n",
       "    </tr>\n",
       "    <tr>\n",
       "      <th>mean</th>\n",
       "      <td>40.936210</td>\n",
       "      <td>1362.272058</td>\n",
       "      <td>258.163080</td>\n",
       "      <td>2.763841</td>\n",
       "      <td>40.197828</td>\n",
       "      <td>0.580323</td>\n",
       "      <td>0.018027</td>\n",
       "      <td>0.555838</td>\n",
       "      <td>0.160226</td>\n",
       "      <td>0.116985</td>\n",
       "      <td>...</td>\n",
       "      <td>0.115171</td>\n",
       "      <td>0.601933</td>\n",
       "      <td>0.282896</td>\n",
       "      <td>0.151534</td>\n",
       "      <td>0.513194</td>\n",
       "      <td>0.294198</td>\n",
       "      <td>0.041074</td>\n",
       "      <td>0.108403</td>\n",
       "      <td>0.858176</td>\n",
       "      <td>0.033421</td>\n",
       "    </tr>\n",
       "    <tr>\n",
       "      <th>std</th>\n",
       "      <td>10.618762</td>\n",
       "      <td>3044.765829</td>\n",
       "      <td>257.527812</td>\n",
       "      <td>3.098021</td>\n",
       "      <td>100.128746</td>\n",
       "      <td>2.303441</td>\n",
       "      <td>0.133049</td>\n",
       "      <td>0.496878</td>\n",
       "      <td>0.366820</td>\n",
       "      <td>0.321406</td>\n",
       "      <td>...</td>\n",
       "      <td>0.319232</td>\n",
       "      <td>0.489505</td>\n",
       "      <td>0.450411</td>\n",
       "      <td>0.358572</td>\n",
       "      <td>0.499831</td>\n",
       "      <td>0.455687</td>\n",
       "      <td>0.198464</td>\n",
       "      <td>0.310892</td>\n",
       "      <td>0.348873</td>\n",
       "      <td>0.179735</td>\n",
       "    </tr>\n",
       "    <tr>\n",
       "      <th>min</th>\n",
       "      <td>18.000000</td>\n",
       "      <td>-8019.000000</td>\n",
       "      <td>0.000000</td>\n",
       "      <td>1.000000</td>\n",
       "      <td>-1.000000</td>\n",
       "      <td>0.000000</td>\n",
       "      <td>0.000000</td>\n",
       "      <td>0.000000</td>\n",
       "      <td>0.000000</td>\n",
       "      <td>0.000000</td>\n",
       "      <td>...</td>\n",
       "      <td>0.000000</td>\n",
       "      <td>0.000000</td>\n",
       "      <td>0.000000</td>\n",
       "      <td>0.000000</td>\n",
       "      <td>0.000000</td>\n",
       "      <td>0.000000</td>\n",
       "      <td>0.000000</td>\n",
       "      <td>0.000000</td>\n",
       "      <td>0.000000</td>\n",
       "      <td>0.000000</td>\n",
       "    </tr>\n",
       "    <tr>\n",
       "      <th>25%</th>\n",
       "      <td>33.000000</td>\n",
       "      <td>72.000000</td>\n",
       "      <td>103.000000</td>\n",
       "      <td>1.000000</td>\n",
       "      <td>-1.000000</td>\n",
       "      <td>0.000000</td>\n",
       "      <td>0.000000</td>\n",
       "      <td>0.000000</td>\n",
       "      <td>0.000000</td>\n",
       "      <td>0.000000</td>\n",
       "      <td>...</td>\n",
       "      <td>0.000000</td>\n",
       "      <td>0.000000</td>\n",
       "      <td>0.000000</td>\n",
       "      <td>0.000000</td>\n",
       "      <td>0.000000</td>\n",
       "      <td>0.000000</td>\n",
       "      <td>0.000000</td>\n",
       "      <td>0.000000</td>\n",
       "      <td>1.000000</td>\n",
       "      <td>0.000000</td>\n",
       "    </tr>\n",
       "    <tr>\n",
       "      <th>50%</th>\n",
       "      <td>39.000000</td>\n",
       "      <td>448.000000</td>\n",
       "      <td>180.000000</td>\n",
       "      <td>2.000000</td>\n",
       "      <td>-1.000000</td>\n",
       "      <td>0.000000</td>\n",
       "      <td>0.000000</td>\n",
       "      <td>1.000000</td>\n",
       "      <td>0.000000</td>\n",
       "      <td>0.000000</td>\n",
       "      <td>...</td>\n",
       "      <td>0.000000</td>\n",
       "      <td>1.000000</td>\n",
       "      <td>0.000000</td>\n",
       "      <td>0.000000</td>\n",
       "      <td>1.000000</td>\n",
       "      <td>0.000000</td>\n",
       "      <td>0.000000</td>\n",
       "      <td>0.000000</td>\n",
       "      <td>1.000000</td>\n",
       "      <td>0.000000</td>\n",
       "    </tr>\n",
       "    <tr>\n",
       "      <th>75%</th>\n",
       "      <td>48.000000</td>\n",
       "      <td>1428.000000</td>\n",
       "      <td>319.000000</td>\n",
       "      <td>3.000000</td>\n",
       "      <td>-1.000000</td>\n",
       "      <td>0.000000</td>\n",
       "      <td>0.000000</td>\n",
       "      <td>1.000000</td>\n",
       "      <td>0.000000</td>\n",
       "      <td>0.000000</td>\n",
       "      <td>...</td>\n",
       "      <td>0.000000</td>\n",
       "      <td>1.000000</td>\n",
       "      <td>1.000000</td>\n",
       "      <td>0.000000</td>\n",
       "      <td>1.000000</td>\n",
       "      <td>1.000000</td>\n",
       "      <td>0.000000</td>\n",
       "      <td>0.000000</td>\n",
       "      <td>1.000000</td>\n",
       "      <td>0.000000</td>\n",
       "    </tr>\n",
       "    <tr>\n",
       "      <th>max</th>\n",
       "      <td>95.000000</td>\n",
       "      <td>102127.000000</td>\n",
       "      <td>4918.000000</td>\n",
       "      <td>63.000000</td>\n",
       "      <td>871.000000</td>\n",
       "      <td>275.000000</td>\n",
       "      <td>1.000000</td>\n",
       "      <td>1.000000</td>\n",
       "      <td>1.000000</td>\n",
       "      <td>1.000000</td>\n",
       "      <td>...</td>\n",
       "      <td>1.000000</td>\n",
       "      <td>1.000000</td>\n",
       "      <td>1.000000</td>\n",
       "      <td>1.000000</td>\n",
       "      <td>1.000000</td>\n",
       "      <td>1.000000</td>\n",
       "      <td>1.000000</td>\n",
       "      <td>1.000000</td>\n",
       "      <td>1.000000</td>\n",
       "      <td>1.000000</td>\n",
       "    </tr>\n",
       "  </tbody>\n",
       "</table>\n",
       "<p>8 rows × 32 columns</p>\n",
       "</div>"
      ],
      "text/plain": [
       "                age        balance      duration      campaign         pdays  \\\n",
       "count  45211.000000   45211.000000  45211.000000  45211.000000  45211.000000   \n",
       "mean      40.936210    1362.272058    258.163080      2.763841     40.197828   \n",
       "std       10.618762    3044.765829    257.527812      3.098021    100.128746   \n",
       "min       18.000000   -8019.000000      0.000000      1.000000     -1.000000   \n",
       "25%       33.000000      72.000000    103.000000      1.000000     -1.000000   \n",
       "50%       39.000000     448.000000    180.000000      2.000000     -1.000000   \n",
       "75%       48.000000    1428.000000    319.000000      3.000000     -1.000000   \n",
       "max       95.000000  102127.000000   4918.000000     63.000000    871.000000   \n",
       "\n",
       "           previous   default_cat   housing_cat      loan_cat       deposit  \\\n",
       "count  45211.000000  45211.000000  45211.000000  45211.000000  45211.000000   \n",
       "mean       0.580323      0.018027      0.555838      0.160226      0.116985   \n",
       "std        2.303441      0.133049      0.496878      0.366820      0.321406   \n",
       "min        0.000000      0.000000      0.000000      0.000000      0.000000   \n",
       "25%        0.000000      0.000000      0.000000      0.000000      0.000000   \n",
       "50%        0.000000      0.000000      1.000000      0.000000      0.000000   \n",
       "75%        0.000000      0.000000      1.000000      0.000000      0.000000   \n",
       "max      275.000000      1.000000      1.000000      1.000000      1.000000   \n",
       "\n",
       "       ...  marital_divorced  marital_married  marital_single  \\\n",
       "count  ...      45211.000000     45211.000000    45211.000000   \n",
       "mean   ...          0.115171         0.601933        0.282896   \n",
       "std    ...          0.319232         0.489505        0.450411   \n",
       "min    ...          0.000000         0.000000        0.000000   \n",
       "25%    ...          0.000000         0.000000        0.000000   \n",
       "50%    ...          0.000000         1.000000        0.000000   \n",
       "75%    ...          0.000000         1.000000        1.000000   \n",
       "max    ...          1.000000         1.000000        1.000000   \n",
       "\n",
       "       education_primary  education_secondary  education_tertiary  \\\n",
       "count       45211.000000         45211.000000        45211.000000   \n",
       "mean            0.151534             0.513194            0.294198   \n",
       "std             0.358572             0.499831            0.455687   \n",
       "min             0.000000             0.000000            0.000000   \n",
       "25%             0.000000             0.000000            0.000000   \n",
       "50%             0.000000             1.000000            0.000000   \n",
       "75%             0.000000             1.000000            1.000000   \n",
       "max             1.000000             1.000000            1.000000   \n",
       "\n",
       "       education_unknown  poutcome_failure  poutcome_other  poutcome_success  \n",
       "count       45211.000000      45211.000000    45211.000000      45211.000000  \n",
       "mean            0.041074          0.108403        0.858176          0.033421  \n",
       "std             0.198464          0.310892        0.348873          0.179735  \n",
       "min             0.000000          0.000000        0.000000          0.000000  \n",
       "25%             0.000000          0.000000        1.000000          0.000000  \n",
       "50%             0.000000          0.000000        1.000000          0.000000  \n",
       "75%             0.000000          0.000000        1.000000          0.000000  \n",
       "max             1.000000          1.000000        1.000000          1.000000  \n",
       "\n",
       "[8 rows x 32 columns]"
      ]
     },
     "execution_count": 30,
     "metadata": {},
     "output_type": "execute_result"
    }
   ],
   "source": [
    "bank_with_dummies.describe()"
   ]
  },
  {
   "cell_type": "markdown",
   "metadata": {
    "_cell_guid": "24492c44-5b2a-4878-9236-df9297680902",
    "_uuid": "d583dd9fbc7df31d950d78bcb62f2156a6c14ed3"
   },
   "source": [
    "## Classification"
   ]
  },
  {
   "cell_type": "code",
   "execution_count": 33,
   "metadata": {
    "_cell_guid": "5675ce89-28f8-409d-9387-ce4641bc4a7b",
    "_uuid": "3b14efa859cd38fce1e118ceae7144d8563dc014"
   },
   "outputs": [],
   "source": [
    "# Train-Test split: 20% test data\n",
    "bankcl = bank_with_dummies\n",
    "data_drop_deposite = bankcl.drop('deposit', 1)\n",
    "label = bankcl.deposit\n",
    "data_train, data_test, label_train, label_test = train_test_split(data_drop_deposite, label, test_size = 0.2, random_state = 50)"
   ]
  },
  {
   "cell_type": "code",
   "execution_count": 49,
   "metadata": {},
   "outputs": [],
   "source": [
    "max_depth = 6\n",
    "criterions = ['gini', 'entropy']\n",
    "splitter = ['random', 'best']\n",
    "best_score = 0"
   ]
  },
  {
   "cell_type": "code",
   "execution_count": 59,
   "metadata": {},
   "outputs": [],
   "source": [
    "for c in criterions:\n",
    "    for s in splitter:\n",
    "        i=2\n",
    "        while i<max_depth:\n",
    "            i+=1\n",
    "            dt = tree.DecisionTreeClassifier(random_state=1, max_depth=i, criterion=c, splitter=s)\n",
    "            dt.fit(data_train, label_train)\n",
    "            dt_score_train = dt.score(data_train, label_train)\n",
    "            #print(\"Training score: \",dt_score_train)\n",
    "            dt_score_test = dt.score(data_test, label_test)\n",
    "            #print(\"Testing score: \",dt_score_test)\n",
    "            if dt_score_test > best_score:\n",
    "                best_score = dt_score_test\n",
    "                best_config = {'criterion': c, 'splitter': s, 'depth': i, 'test_score': dt_score_test, 'train_score': dt_score_train}\n",
    "                best_dt = dt"
   ]
  },
  {
   "cell_type": "code",
   "execution_count": 113,
   "metadata": {},
   "outputs": [
    {
     "name": "stdout",
     "output_type": "stream",
     "text": [
      "Best score:  0.9027977441114674\n",
      "Using config:  {'criterion': 'entropy', 'splitter': 'best', 'depth': 4, 'test_score': 0.9027977441114674, 'train_score': 0.9009068790090687}\n"
     ]
    }
   ],
   "source": [
    "print(\"Best score: \", best_score)\n",
    "print(\"Using config: \", best_config)\n",
    "dt = best_dt"
   ]
  },
  {
   "cell_type": "code",
   "execution_count": 114,
   "metadata": {},
   "outputs": [
    {
     "data": {
      "image/png": "[encoded data removed]",
      "text/plain": [
       "<IPython.core.display.Image object>"
      ]
     },
     "execution_count": 114,
     "metadata": {},
     "output_type": "execute_result"
    }
   ],
   "source": [
    "features = bankcl.drop('deposit', 1).columns.tolist()\n",
    "tree.export_graphviz(dt, out_file='tree.dot', class_names=['yes','no'], feature_names=features)\n",
    "\n",
    "check_call(['dot','-Tpng','tree.dot','-o','tree.png'])\n",
    "\n",
    "# Annotating chart with PIL\n",
    "img = Image.open(\"tree.png\")\n",
    "draw = ImageDraw.Draw(img)\n",
    "img.save('tree.png')\n",
    "PImage(\"tree.png\")"
   ]
  },
  {
   "cell_type": "markdown",
   "metadata": {},
   "source": [
    "## Questions"
   ]
  },
  {
   "cell_type": "code",
   "execution_count": 115,
   "metadata": {},
   "outputs": [],
   "source": [
    "n_nodes = dt.tree_.node_count\n",
    "children_left = dt.tree_.children_left\n",
    "children_right = dt.tree_.children_right\n",
    "feature = dt.tree_.feature\n",
    "threshold = dt.tree_.threshold\n",
    "values = dt.tree_.value"
   ]
  },
  {
   "cell_type": "code",
   "execution_count": 118,
   "metadata": {},
   "outputs": [
    {
     "name": "stdout",
     "output_type": "stream",
     "text": [
      "The binary tree structure has 31 nodes \n"
     ]
    }
   ],
   "source": [
    "# The tree structure can be traversed to compute various properties such\n",
    "# as the depth of each node and whether or not it is a leaf.\n",
    "node_depth = np.zeros(shape=n_nodes, dtype=np.int64)\n",
    "is_leaves = np.zeros(shape=n_nodes, dtype=bool)\n",
    "stack = [(0, -1)]  # seed is the root node id and its parent depth\n",
    "while len(stack) > 0:\n",
    "    node_id, parent_depth = stack.pop()\n",
    "    node_depth[node_id] = parent_depth + 1\n",
    "\n",
    "    # If we have a test node\n",
    "    if (children_left[node_id] != children_right[node_id]):\n",
    "        stack.append((children_left[node_id], parent_depth + 1))\n",
    "        stack.append((children_right[node_id], parent_depth + 1))\n",
    "    else:\n",
    "        is_leaves[node_id] = True\n",
    "\n",
    "print(\"The binary tree structure has %s nodes \"\n",
    "      % n_nodes)\n",
    "\n"
   ]
  },
  {
   "cell_type": "code",
   "execution_count": null,
   "metadata": {},
   "outputs": [
    {
     "name": "stdout",
     "output_type": "stream",
     "text": [
      "Is duration <= 438.5 ? [y/n] 300\n"
     ]
    }
   ],
   "source": [
    "i=0\n",
    "while True:\n",
    "    if is_leaves[i]:\n",
    "        if values[i][0][0]>values[i][0][1]:\n",
    "            result = \"yes\"\n",
    "        else:\n",
    "            result = \"no\"\n",
    "        print(\"Result is: %s\" % result)\n",
    "        break\n",
    "    answer = input(\"Is %s <= %s ? [y/n] \" % (features[feature[i]], threshold[i]))\n",
    "    #print(answer)\n",
    "    if answer == 'y':\n",
    "        i=children_left[i]\n",
    "    else:\n",
    "        i=children_right[i]"
   ]
  },
  {
   "cell_type": "code",
   "execution_count": 112,
   "metadata": {},
   "outputs": [
    {
     "name": "stdout",
     "output_type": "stream",
     "text": [
      "What is the value for duration: 300\n",
      "What is the value for poutcome_success: 0.7\n",
      "What is the value for housing_cat: 0.3\n",
      "What is the value for age: 25\n",
      "Result is: no\n"
     ]
    }
   ],
   "source": [
    "i=0\n",
    "answers = {}\n",
    "while True:\n",
    "    if is_leaves[i]:\n",
    "        if values[i][0][0]>values[i][0][1]:\n",
    "            result = \"yes\"\n",
    "        else:\n",
    "            result = \"no\"\n",
    "        print(\"Result is: %s\" % result)\n",
    "        break\n",
    "    if features[feature[i]] in answers:\n",
    "        answer = answers[features[feature[i]]]\n",
    "    else:\n",
    "        answer = input(\"What is the value for %s: \" % (features[feature[i]]))\n",
    "        answers[features[feature[i]]] = answer\n",
    "    #print(answer)\n",
    "    if float(answer) <= float(threshold[i]):\n",
    "        i=children_left[i]\n",
    "    else:\n",
    "        i=children_right[i]"
   ]
  },
  {
   "cell_type": "code",
   "execution_count": 103,
   "metadata": {},
   "outputs": [
    {
     "name": "stdout",
     "output_type": "stream",
     "text": [
      "node=0 test node: go to node 1 if duration <= 438.5 else to node 58 class is yes.\n",
      "\tnode=1 test node: go to node 2 if poutcome_success <= 0.5 else to node 31 class is yes.\n",
      "\t\tnode=2 test node: go to node 3 if duration <= 143.5 else to node 16 class is yes.\n",
      "\t\t\tnode=3 test node: go to node 4 if duration <= 77.5 else to node 9 class is yes.\n",
      "\t\t\t\tnode=4 test node: go to node 5 if campaign <= 4.5 else to node 8 class is yes.\n",
      "\t\t\t\t\tnode=5 test node: go to node 6 if education_tertiary <= 0.5 else to node 7 class is yes.\n",
      "\t\t\t\t\t\tnode=6 leaf node.\n",
      "\t\t\t\t\t\tnode=7 leaf node.\n",
      "\t\t\t\t\tnode=8 leaf node.\n",
      "\t\t\t\tnode=9 test node: go to node 10 if housing_cat <= 0.5 else to node 13 class is yes.\n",
      "\t\t\t\t\tnode=10 test node: go to node 11 if age <= 29.5 else to node 12 class is yes.\n",
      "\t\t\t\t\t\tnode=11 leaf node.\n",
      "\t\t\t\t\t\tnode=12 leaf node.\n",
      "\t\t\t\t\tnode=13 test node: go to node 14 if job_blue-collar <= 0.5 else to node 15 class is yes.\n",
      "\t\t\t\t\t\tnode=14 leaf node.\n",
      "\t\t\t\t\t\tnode=15 leaf node.\n",
      "\t\t\tnode=16 test node: go to node 17 if housing_cat <= 0.5 else to node 24 class is yes.\n",
      "\t\t\t\tnode=17 test node: go to node 18 if age <= 60.5 else to node 21 class is yes.\n",
      "\t\t\t\t\tnode=18 test node: go to node 19 if pdays <= 40.5 else to node 20 class is yes.\n",
      "\t\t\t\t\t\tnode=19 leaf node.\n",
      "\t\t\t\t\t\tnode=20 leaf node.\n",
      "\t\t\t\t\tnode=21 test node: go to node 22 if duration <= 209.0 else to node 23 class is yes.\n",
      "\t\t\t\t\t\tnode=22 leaf node.\n",
      "\t\t\t\t\t\tnode=23 leaf node.\n",
      "\t\t\t\tnode=24 test node: go to node 25 if pdays <= 374.5 else to node 28 class is yes.\n",
      "\t\t\t\t\tnode=25 test node: go to node 26 if job_blue-collar <= 0.5 else to node 27 class is yes.\n",
      "\t\t\t\t\t\tnode=26 leaf node.\n",
      "\t\t\t\t\t\tnode=27 leaf node.\n",
      "\t\t\t\t\tnode=28 test node: go to node 29 if duration <= 230.0 else to node 30 class is no.\n",
      "\t\t\t\t\t\tnode=29 leaf node.\n",
      "\t\t\t\t\t\tnode=30 leaf node.\n",
      "\t\tnode=31 test node: go to node 32 if duration <= 163.5 else to node 47 class is no.\n",
      "\t\t\tnode=32 test node: go to node 33 if duration <= 80.0 else to node 40 class is yes.\n",
      "\t\t\t\tnode=33 test node: go to node 34 if pdays <= 188.0 else to node 37 class is yes.\n",
      "\t\t\t\t\tnode=34 test node: go to node 35 if pdays <= 85.5 else to node 36 class is yes.\n",
      "\t\t\t\t\t\tnode=35 leaf node.\n",
      "\t\t\t\t\t\tnode=36 leaf node.\n",
      "\t\t\t\t\tnode=37 test node: go to node 38 if age <= 41.5 else to node 39 class is yes.\n",
      "\t\t\t\t\t\tnode=38 leaf node.\n",
      "\t\t\t\t\t\tnode=39 leaf node.\n",
      "\t\t\t\tnode=40 test node: go to node 41 if duration <= 132.5 else to node 44 class is yes.\n",
      "\t\t\t\t\tnode=41 test node: go to node 42 if job_admin. <= 0.5 else to node 43 class is yes.\n",
      "\t\t\t\t\t\tnode=42 leaf node.\n",
      "\t\t\t\t\t\tnode=43 leaf node.\n",
      "\t\t\t\t\tnode=44 test node: go to node 45 if duration <= 153.5 else to node 46 class is yes.\n",
      "\t\t\t\t\t\tnode=45 leaf node.\n",
      "\t\t\t\t\t\tnode=46 leaf node.\n",
      "\t\t\tnode=47 test node: go to node 48 if housing_cat <= 0.5 else to node 53 class is no.\n",
      "\t\t\t\tnode=48 test node: go to node 49 if age <= 22.5 else to node 50 class is no.\n",
      "\t\t\t\t\tnode=49 leaf node.\n",
      "\t\t\t\t\tnode=50 test node: go to node 51 if duration <= 166.5 else to node 52 class is no.\n",
      "\t\t\t\t\t\tnode=51 leaf node.\n",
      "\t\t\t\t\t\tnode=52 leaf node.\n",
      "\t\t\t\tnode=53 test node: go to node 54 if balance <= 7058.0 else to node 57 class is no.\n",
      "\t\t\t\t\tnode=54 test node: go to node 55 if age <= 60.5 else to node 56 class is no.\n",
      "\t\t\t\t\t\tnode=55 leaf node.\n",
      "\t\t\t\t\t\tnode=56 leaf node.\n",
      "\t\t\t\t\tnode=57 leaf node.\n",
      "\tnode=58 test node: go to node 59 if duration <= 635.5 else to node 88 class is yes.\n",
      "\t\tnode=59 test node: go to node 60 if poutcome_success <= 0.5 else to node 75 class is yes.\n",
      "\t\t\tnode=60 test node: go to node 61 if housing_cat <= 0.5 else to node 68 class is yes.\n",
      "\t\t\t\tnode=61 test node: go to node 62 if loan_cat <= 0.5 else to node 65 class is yes.\n",
      "\t\t\t\t\tnode=62 test node: go to node 63 if campaign <= 1.5 else to node 64 class is yes.\n",
      "\t\t\t\t\t\tnode=63 leaf node.\n",
      "\t\t\t\t\t\tnode=64 leaf node.\n",
      "\t\t\t\t\tnode=65 test node: go to node 66 if duration <= 476.0 else to node 67 class is yes.\n",
      "\t\t\t\t\t\tnode=66 leaf node.\n",
      "\t\t\t\t\t\tnode=67 leaf node.\n",
      "\t\t\t\tnode=68 test node: go to node 69 if duration <= 518.5 else to node 72 class is yes.\n",
      "\t\t\t\t\tnode=69 test node: go to node 70 if pdays <= 381.5 else to node 71 class is yes.\n",
      "\t\t\t\t\t\tnode=70 leaf node.\n",
      "\t\t\t\t\t\tnode=71 leaf node.\n",
      "\t\t\t\t\tnode=72 test node: go to node 73 if pdays <= 352.0 else to node 74 class is yes.\n",
      "\t\t\t\t\t\tnode=73 leaf node.\n",
      "\t\t\t\t\t\tnode=74 leaf node.\n",
      "\t\t\tnode=75 test node: go to node 76 if education_secondary <= 0.5 else to node 83 class is no.\n",
      "\t\t\t\tnode=76 test node: go to node 77 if housing_cat <= 0.5 else to node 80 class is no.\n",
      "\t\t\t\t\tnode=77 test node: go to node 78 if age <= 47.0 else to node 79 class is no.\n",
      "\t\t\t\t\t\tnode=78 leaf node.\n",
      "\t\t\t\t\t\tnode=79 leaf node.\n",
      "\t\t\t\t\tnode=80 test node: go to node 81 if duration <= 610.0 else to node 82 class is yes.\n",
      "\t\t\t\t\t\tnode=81 leaf node.\n",
      "\t\t\t\t\t\tnode=82 leaf node.\n",
      "\t\t\t\tnode=83 test node: go to node 84 if age <= 37.5 else to node 87 class is no.\n",
      "\t\t\t\t\tnode=84 test node: go to node 85 if campaign <= 2.5 else to node 86 class is no.\n",
      "\t\t\t\t\t\tnode=85 leaf node.\n",
      "\t\t\t\t\t\tnode=86 leaf node.\n",
      "\t\t\t\t\tnode=87 leaf node.\n",
      "\t\tnode=88 test node: go to node 89 if duration <= 827.5 else to node 102 class is no.\n",
      "\t\t\tnode=89 test node: go to node 90 if poutcome_success <= 0.5 else to node 97 class is yes.\n",
      "\t\t\t\tnode=90 test node: go to node 91 if housing_cat <= 0.5 else to node 94 class is yes.\n",
      "\t\t\t\t\tnode=91 test node: go to node 92 if age <= 56.5 else to node 93 class is yes.\n",
      "\t\t\t\t\t\tnode=92 leaf node.\n",
      "\t\t\t\t\t\tnode=93 leaf node.\n",
      "\t\t\t\t\tnode=94 test node: go to node 95 if marital_single <= 0.5 else to node 96 class is yes.\n",
      "\t\t\t\t\t\tnode=95 leaf node.\n",
      "\t\t\t\t\t\tnode=96 leaf node.\n",
      "\t\t\t\tnode=97 test node: go to node 98 if balance <= 13362.5 else to node 101 class is no.\n",
      "\t\t\t\t\tnode=98 test node: go to node 99 if education_tertiary <= 0.5 else to node 100 class is no.\n",
      "\t\t\t\t\t\tnode=99 leaf node.\n",
      "\t\t\t\t\t\tnode=100 leaf node.\n",
      "\t\t\t\t\tnode=101 leaf node.\n",
      "\t\t\tnode=102 test node: go to node 103 if marital_married <= 0.5 else to node 110 class is no.\n",
      "\t\t\t\tnode=103 test node: go to node 104 if age <= 55.5 else to node 107 class is no.\n",
      "\t\t\t\t\tnode=104 test node: go to node 105 if duration <= 957.5 else to node 106 class is no.\n",
      "\t\t\t\t\t\tnode=105 leaf node.\n",
      "\t\t\t\t\t\tnode=106 leaf node.\n",
      "\t\t\t\t\tnode=107 test node: go to node 108 if job_unemployed <= 0.5 else to node 109 class is yes.\n",
      "\t\t\t\t\t\tnode=108 leaf node.\n",
      "\t\t\t\t\t\tnode=109 leaf node.\n",
      "\t\t\t\tnode=110 test node: go to node 111 if balance <= 692.5 else to node 114 class is no.\n",
      "\t\t\t\t\tnode=111 test node: go to node 112 if duration <= 892.5 else to node 113 class is yes.\n",
      "\t\t\t\t\t\tnode=112 leaf node.\n",
      "\t\t\t\t\t\tnode=113 leaf node.\n",
      "\t\t\t\t\tnode=114 test node: go to node 115 if balance <= 11764.5 else to node 116 class is no.\n",
      "\t\t\t\t\t\tnode=115 leaf node.\n",
      "\t\t\t\t\t\tnode=116 leaf node.\n",
      "\n"
     ]
    }
   ],
   "source": [
    "for i in range(n_nodes):\n",
    "    if is_leaves[i]:\n",
    "        print(\"%snode=%s leaf node.\" % (node_depth[i] * \"\\t\", i))\n",
    "    else:\n",
    "        if values[i][0][0]>values[i][0][1]:\n",
    "            result = \"yes\"\n",
    "        else:\n",
    "            result = \"no\"\n",
    "        print(\"%snode=%s test node: go to node %s if %s <= %s else to \"\n",
    "              \"node %s class is %s.\"\n",
    "              % (node_depth[i] * \"\\t\",\n",
    "                 i,\n",
    "                 children_left[i],\n",
    "                 features[feature[i]],\n",
    "                 threshold[i],\n",
    "                 children_right[i],\n",
    "                 result\n",
    "                 ))\n",
    "print()\n"
   ]
  },
  {
   "cell_type": "markdown",
   "metadata": {
    "_cell_guid": "3eba0270-7d71-4254-b1b9-03d25eae3a23",
    "_uuid": "caf2f2bfd1e3549d35359927dea802c3e8f3e40e"
   },
   "source": [
    "## Predictions"
   ]
  },
  {
   "cell_type": "code",
   "execution_count": 55,
   "metadata": {
    "_cell_guid": "7d43908a-0eef-4719-90a2-96e486ee3743",
    "_uuid": "34edc756644878ec7c1cdbe10310485dc9b386a7"
   },
   "outputs": [
    {
     "name": "stdout",
     "output_type": "stream",
     "text": [
      "Mean duration   :  263.96129174961294\n",
      "Maximun duration:  3025\n",
      "Minimum duration:  4\n"
     ]
    }
   ],
   "source": [
    "# According to feature importance results, most importtant feature is the \"Duration\"\n",
    "# Let's calculte statistics on Duration\n",
    "print(\"Mean duration   : \", data_drop_deposite.duration.mean())\n",
    "print(\"Maximun duration: \", data_drop_deposite.duration.max())\n",
    "print(\"Minimum duration: \", data_drop_deposite.duration.min())"
   ]
  },
  {
   "cell_type": "code",
   "execution_count": 56,
   "metadata": {
    "_cell_guid": "44c20639-552b-4941-98ca-492aaaf987e3",
    "_uuid": "f90cc3423d1135a1f0fb8f4850088935de2cc7d3"
   },
   "outputs": [
    {
     "name": "stdout",
     "output_type": "stream",
     "text": [
      "[[0.34444444 0.65555556]]\n",
      "[1]\n"
     ]
    }
   ],
   "source": [
    "# Predict: Successful deposite with a call duration = 371 sec\n",
    "\n",
    "print(dt2.predict_proba(np.array([0, 0, 371, 0, 0, 0,0,0,0,0,0,0,0,0,0,0,0,0,0,0,0,0,0,0,1,0]).reshape(1, -1)))\n",
    "print(dt2.predict(np.array([0, 0, 371, 0, 0, 0,0,0,0,0,0,0,0,0,0,0,0,0,0,0,0,0,0,0,1,0]).reshape(1, -1)))\n",
    "# column 0: probability for class 0 (not signed for term deposite) & column 1: probability for class 1\n",
    "# Probability of Successful deposite = 0.51484432"
   ]
  },
  {
   "cell_type": "code",
   "execution_count": 57,
   "metadata": {
    "_cell_guid": "45ce9752-9a0e-49ae-8ae6-62f39e984fc1",
    "_uuid": "01b7620cb265ebae4ec3289e20b49405324d25f0"
   },
   "outputs": [
    {
     "name": "stdout",
     "output_type": "stream",
     "text": [
      "[[0.41322314 0.58677686]]\n",
      "[1]\n"
     ]
    }
   ],
   "source": [
    "# Predict: Successful deposite with a maximun call duration = 3881 sec\n",
    "\n",
    "print(dt2.predict_proba(np.array([0, 0, 3881, 0, 0, 0,0,0,0,0,0,0,0,0,0,0,0,0,0,0,0,0,0,0,1,0]).reshape(1, -1)))\n",
    "print(dt2.predict(np.array([0, 0, 3881, 0, 0, 0,0,0,0,0,0,0,0,0,0,0,0,0,0,0,0,0,0,0,1,0]).reshape(1, -1)))"
   ]
  },
  {
   "cell_type": "code",
   "execution_count": 58,
   "metadata": {
    "_cell_guid": "49cc5af7-e45e-465e-8496-f6e64ddffa06",
    "_uuid": "0f0d54a2141b6a7906a93fbc0cf73b2cfe1dfecc"
   },
   "outputs": [
    {
     "data": {
      "text/plain": [
       "age                     58.0000\n",
       "balance                543.0000\n",
       "duration               264.0000\n",
       "campaign                 3.0000\n",
       "previous                 0.0000\n",
       "default_cat              0.0000\n",
       "housing_cat              0.0000\n",
       "loan_cat                 1.0000\n",
       "recent_pdays             0.0001\n",
       "job_blue-collar          1.0000\n",
       "job_entrepreneur         0.0000\n",
       "job_other                0.0000\n",
       "job_pink-collar          0.0000\n",
       "job_self-employed        0.0000\n",
       "job_technician           0.0000\n",
       "job_white-collar         0.0000\n",
       "marital_divorced         1.0000\n",
       "marital_married          0.0000\n",
       "marital_single           0.0000\n",
       "education_primary        0.0000\n",
       "education_secondary      1.0000\n",
       "education_tertiary       0.0000\n",
       "education_unknown        0.0000\n",
       "poutcome_failure         0.0000\n",
       "poutcome_success         0.0000\n",
       "poutcome_unknown         1.0000\n",
       "Name: 985, dtype: float64"
      ]
     },
     "execution_count": 58,
     "metadata": {},
     "output_type": "execute_result"
    }
   ],
   "source": [
    "# Get a row with poutcome_success = 1\n",
    "#bank_with_dummies[(bank_with_dummies.poutcome_success == 1)]\n",
    "data_drop_deposite.iloc[985]"
   ]
  },
  {
   "cell_type": "code",
   "execution_count": 59,
   "metadata": {
    "_cell_guid": "2e1045dd-ab80-4ebd-8daa-9b51c217f1cc",
    "_uuid": "735a8e7498209fd60fd7ece2d610e0cd12793715"
   },
   "outputs": [
    {
     "name": "stdout",
     "output_type": "stream",
     "text": [
      "[[0.34444444 0.65555556]]\n"
     ]
    }
   ],
   "source": [
    "# Predict: Probability for above\n",
    "\n",
    "print(dt2.predict_proba(np.array([46,3354,522,1,1,0,1,0,0.005747,0,0,1,0,0,0,0,1,0,0,0,1,0,0,0,1,0]).reshape(1, -1)))\n",
    "#print(ctree.predict(np.array([46,3354,522,1,1,0,1,0,0.005747,0,0,1,0,0,0,0,1,0,0,0,1,0,0,0,1,0]).reshape(1, -1)))"
   ]
  }
 ],
 "metadata": {
  "kernelspec": {
   "display_name": "Python 3",
   "language": "python",
   "name": "python3"
  },
  "language_info": {
   "codemirror_mode": {
    "name": "ipython",
    "version": 3
   },
   "file_extension": ".py",
   "mimetype": "text/x-python",
   "name": "python",
   "nbconvert_exporter": "python",
   "pygments_lexer": "ipython3",
   "version": "3.6.8"
  }
 },
 "nbformat": 4,
 "nbformat_minor": 1
}
